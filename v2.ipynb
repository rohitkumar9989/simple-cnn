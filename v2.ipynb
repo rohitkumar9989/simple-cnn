{
  "nbformat": 4,
  "nbformat_minor": 0,
  "metadata": {
    "colab": {
      "name": "v2.ipynb",
      "provenance": [],
      "collapsed_sections": [],
      "toc_visible": true,
      "machine_shape": "hm"
    },
    "kernelspec": {
      "name": "python3",
      "display_name": "Python 3"
    }
  },
  "cells": [
    {
      "cell_type": "code",
      "metadata": {
        "id": "GwrLABmMG5E_",
        "colab_type": "code",
        "colab": {}
      },
      "source": [
        "from zipfile import ZipFile\n",
        "file_name = \"Dataset_Yah.zip\"\n",
        "\n",
        "with ZipFile(file_name,'r') as zip:\n",
        "  zip.extractall()\n"
      ],
      "execution_count": 0,
      "outputs": []
    },
    {
      "cell_type": "code",
      "metadata": {
        "id": "yjfn7_oxnTvY",
        "colab_type": "code",
        "colab": {}
      },
      "source": [
        "from keras.preprocessing.image import ImageDataGenerator\n",
        "\n",
        "datagen = ImageDataGenerator(\n",
        "        rotation_range=40,\n",
        "        width_shift_range=0.2,\n",
        "        height_shift_range=0.2,\n",
        "        rescale=1./255,\n",
        "        shear_range=0.2,\n",
        "        zoom_range=0.2,\n",
        "        horizontal_flip=True,\n",
        "        fill_mode='nearest')\n",
        "\n",
        "from keras.models import Sequential\n",
        "from keras.layers import Conv2D, MaxPooling2D\n",
        "from keras.layers import Activation, Dropout, Flatten, Dense\n",
        "\n",
        "model = Sequential()\n",
        "model.add(Conv2D(32, (3, 3), input_shape=(356, 356, 3),padding = 'same'))\n",
        "model.add(Activation('relu'))\n",
        "model.add(MaxPooling2D(pool_size=(1, 1)))\n",
        "\n",
        "model.add(Conv2D(32, (3, 3),padding = 'same'))\n",
        "model.add(Activation('relu'))\n",
        "model.add(MaxPooling2D(pool_size=(1, 1)))\n",
        "\n",
        "model.add(Conv2D(64, (3, 3),padding = 'same'))\n",
        "model.add(Activation('relu'))\n",
        "model.add(MaxPooling2D(pool_size=(1, 1)))\n",
        "\n",
        "model.add(Flatten())\n",
        "model.add(Dense(64))\n",
        "model.add(Activation('relu'))\n",
        "model.add(Dropout(0.5))\n",
        "model.add(Dense(1))\n",
        "model.add(Activation('sigmoid'))"
      ],
      "execution_count": 0,
      "outputs": []
    },
    {
      "cell_type": "code",
      "metadata": {
        "id": "6y4NXGr6yg7n",
        "colab_type": "code",
        "colab": {}
      },
      "source": [
        "from google.colab import drive\n",
        "drive.mount('/content/drive')"
      ],
      "execution_count": 0,
      "outputs": []
    },
    {
      "cell_type": "code",
      "metadata": {
        "id": "76yzj_sSYBW1",
        "colab_type": "code",
        "colab": {}
      },
      "source": [
        "model.compile(loss='binary_crossentropy',\n",
        "              optimizer='rmsprop',\n",
        "              metrics=['accuracy'])\n",
        "\n",
        "batch_size = 16\n",
        "\n",
        "train_datagen = ImageDataGenerator(\n",
        "        rescale=1./255,\n",
        "        shear_range=0.2,\n",
        "        zoom_range=0.2,\n",
        "        horizontal_flip=True)\n",
        "\n",
        "test_datagen = ImageDataGenerator(rescale=1./255)"
      ],
      "execution_count": 0,
      "outputs": []
    },
    {
      "cell_type": "code",
      "metadata": {
        "id": "2Of0ylj5V19-",
        "colab_type": "code",
        "colab": {}
      },
      "source": [
        "train_generator = train_datagen.flow_from_directory(\n",
        "        'Dataset_Yah/Train', # this is the target directory\n",
        "        target_size=(356, 356),  # all images will be resized to 356x356\n",
        "        batch_size=batch_size,\n",
        "        class_mode='binary')  # since we use binary_crossentropy loss, we need binary labels\n",
        "\n",
        "validation_generator = test_datagen.flow_from_directory(\n",
        "        'Dataset_Yah/Test',\n",
        "        target_size=(356, 356),\n",
        "        batch_size=batch_size,\n",
        "        class_mode='binary')"
      ],
      "execution_count": 0,
      "outputs": []
    },
    {
      "cell_type": "code",
      "metadata": {
        "id": "8kF_fMlsU4yB",
        "colab_type": "code",
        "outputId": "d6239199-72c8-49bc-9b10-820787e42cbb",
        "colab": {
          "base_uri": "https://localhost:8080/",
          "height": 1000
        }
      },
      "source": [
        "\n",
        "model.fit_generator(\n",
        "        train_generator,\n",
        "        steps_per_epoch=200 // batch_size,\n",
        "        epochs=50,\n",
        "        validation_data=validation_generator,\n",
        "        validation_steps=80 // batch_size)"
      ],
      "execution_count": 0,
      "outputs": [
        {
          "output_type": "stream",
          "text": [
            "Epoch 1/50\n",
            "12/12 [==============================] - 179s 15s/step - loss: 3.0150 - acc: 0.7645 - val_loss: 4.4325 - val_acc: 0.7250\n",
            "Epoch 2/50\n",
            "12/12 [==============================] - 153s 13s/step - loss: 2.4345 - acc: 0.8490 - val_loss: 3.4251 - val_acc: 0.7875\n",
            "Epoch 3/50\n",
            "12/12 [==============================] - 157s 13s/step - loss: 2.4345 - acc: 0.8490 - val_loss: 3.2236 - val_acc: 0.8000\n",
            "Epoch 4/50\n",
            "12/12 [==============================] - 150s 12s/step - loss: 3.0761 - acc: 0.8092 - val_loss: 4.2416 - val_acc: 0.7368\n",
            "Epoch 5/50\n",
            "12/12 [==============================] - 156s 13s/step - loss: 1.9308 - acc: 0.8802 - val_loss: 4.0295 - val_acc: 0.7500\n",
            "Epoch 6/50\n",
            "12/12 [==============================] - 152s 13s/step - loss: 3.4419 - acc: 0.7865 - val_loss: 4.2310 - val_acc: 0.7375\n",
            "Epoch 7/50\n",
            "12/12 [==============================] - 152s 13s/step - loss: 3.2998 - acc: 0.7953 - val_loss: 3.4251 - val_acc: 0.7875\n",
            "Epoch 8/50\n",
            "12/12 [==============================] - 150s 12s/step - loss: 2.6554 - acc: 0.8353 - val_loss: 2.1208 - val_acc: 0.8684\n",
            "Epoch 9/50\n",
            "12/12 [==============================] - 152s 13s/step - loss: 2.2346 - acc: 0.8614 - val_loss: 3.2236 - val_acc: 0.8000\n",
            "Epoch 10/50\n",
            "12/12 [==============================] - 153s 13s/step - loss: 2.5185 - acc: 0.8438 - val_loss: 3.4251 - val_acc: 0.7875\n",
            "Epoch 11/50\n",
            "12/12 [==============================] - 154s 13s/step - loss: 2.7703 - acc: 0.8281 - val_loss: 4.6340 - val_acc: 0.7125\n",
            "Epoch 12/50\n",
            "12/12 [==============================] - 154s 13s/step - loss: 3.1900 - acc: 0.8021 - val_loss: 4.2416 - val_acc: 0.7368\n",
            "Epoch 13/50\n",
            "12/12 [==============================] - 150s 12s/step - loss: 2.1881 - acc: 0.8642 - val_loss: 4.2310 - val_acc: 0.7375\n",
            "Epoch 14/50\n",
            "12/12 [==============================] - 150s 12s/step - loss: 3.0473 - acc: 0.8109 - val_loss: 3.4251 - val_acc: 0.7875\n",
            "Epoch 15/50\n",
            "12/12 [==============================] - 151s 13s/step - loss: 2.1827 - acc: 0.8646 - val_loss: 4.4325 - val_acc: 0.7250\n",
            "Epoch 16/50\n",
            "12/12 [==============================] - 152s 13s/step - loss: 3.2068 - acc: 0.8010 - val_loss: 3.6054 - val_acc: 0.7763\n",
            "Epoch 17/50\n",
            "12/12 [==============================] - 152s 13s/step - loss: 2.2666 - acc: 0.8594 - val_loss: 3.4251 - val_acc: 0.7875\n",
            "Epoch 18/50\n",
            "12/12 [==============================] - 155s 13s/step - loss: 2.8542 - acc: 0.8229 - val_loss: 4.4325 - val_acc: 0.7250\n",
            "Epoch 19/50\n",
            "12/12 [==============================] - 152s 13s/step - loss: 2.8542 - acc: 0.8229 - val_loss: 3.1812 - val_acc: 0.8026\n",
            "Epoch 20/50\n",
            "12/12 [==============================] - 152s 13s/step - loss: 2.8237 - acc: 0.8248 - val_loss: 4.0295 - val_acc: 0.7500\n",
            "Epoch 21/50\n",
            "12/12 [==============================] - 149s 12s/step - loss: 2.2811 - acc: 0.8585 - val_loss: 3.2236 - val_acc: 0.8000\n",
            "Epoch 22/50\n",
            "12/12 [==============================] - 154s 13s/step - loss: 2.4345 - acc: 0.8490 - val_loss: 3.2236 - val_acc: 0.8000\n",
            "Epoch 23/50\n",
            "12/12 [==============================] - 151s 13s/step - loss: 2.9543 - acc: 0.8167 - val_loss: 4.2416 - val_acc: 0.7368\n",
            "Epoch 24/50\n",
            "12/12 [==============================] - 154s 13s/step - loss: 2.9382 - acc: 0.8177 - val_loss: 3.6266 - val_acc: 0.7750\n",
            "Epoch 25/50\n",
            "12/12 [==============================] - 152s 13s/step - loss: 2.1504 - acc: 0.8666 - val_loss: 4.0295 - val_acc: 0.7500\n",
            "Epoch 26/50\n",
            "12/12 [==============================] - 153s 13s/step - loss: 3.3579 - acc: 0.7917 - val_loss: 4.4325 - val_acc: 0.7250\n",
            "Epoch 27/50\n",
            "12/12 [==============================] - 154s 13s/step - loss: 2.6863 - acc: 0.8333 - val_loss: 3.1812 - val_acc: 0.8026\n",
            "Epoch 28/50\n",
            "12/12 [==============================] - 149s 12s/step - loss: 2.6642 - acc: 0.8347 - val_loss: 3.4251 - val_acc: 0.7875\n",
            "Epoch 29/50\n",
            "12/12 [==============================] - 156s 13s/step - loss: 2.6863 - acc: 0.8333 - val_loss: 4.0295 - val_acc: 0.7500\n",
            "Epoch 30/50\n",
            "12/12 [==============================] - 151s 13s/step - loss: 3.0385 - acc: 0.8115 - val_loss: 3.8280 - val_acc: 0.7625\n",
            "Epoch 31/50\n",
            "12/12 [==============================] - 157s 13s/step - loss: 2.6863 - acc: 0.8333 - val_loss: 3.6054 - val_acc: 0.7763\n",
            "Epoch 32/50\n",
            "12/12 [==============================] - 150s 12s/step - loss: 2.6177 - acc: 0.8376 - val_loss: 3.8280 - val_acc: 0.7625\n",
            "Epoch 33/50\n",
            "12/12 [==============================] - 154s 13s/step - loss: 2.9382 - acc: 0.8177 - val_loss: 3.8280 - val_acc: 0.7625\n",
            "Epoch 34/50\n",
            "12/12 [==============================] - 150s 13s/step - loss: 2.8702 - acc: 0.8219 - val_loss: 3.6266 - val_acc: 0.7750\n",
            "Epoch 35/50\n",
            "12/12 [==============================] - 154s 13s/step - loss: 2.4345 - acc: 0.8490 - val_loss: 3.8174 - val_acc: 0.7632\n",
            "Epoch 36/50\n",
            "12/12 [==============================] - 153s 13s/step - loss: 2.9382 - acc: 0.8177 - val_loss: 3.2236 - val_acc: 0.8000\n",
            "Epoch 37/50\n",
            "12/12 [==============================] - 150s 12s/step - loss: 2.1216 - acc: 0.8684 - val_loss: 4.2310 - val_acc: 0.7375\n",
            "Epoch 38/50\n",
            "12/12 [==============================] - 154s 13s/step - loss: 2.4345 - acc: 0.8490 - val_loss: 4.0295 - val_acc: 0.7500\n",
            "Epoch 39/50\n",
            "12/12 [==============================] - 150s 12s/step - loss: 3.3751 - acc: 0.7906 - val_loss: 3.6266 - val_acc: 0.7750\n",
            "Epoch 40/50\n",
            "12/12 [==============================] - 153s 13s/step - loss: 2.6863 - acc: 0.8333 - val_loss: 3.8280 - val_acc: 0.7625\n",
            "Epoch 41/50\n",
            "12/12 [==============================] - 148s 12s/step - loss: 2.6177 - acc: 0.8376 - val_loss: 4.0295 - val_acc: 0.7500\n",
            "Epoch 42/50\n",
            "12/12 [==============================] - 152s 13s/step - loss: 2.6265 - acc: 0.8370 - val_loss: 3.8174 - val_acc: 0.7632\n",
            "Epoch 43/50\n",
            "12/12 [==============================] - 151s 13s/step - loss: 2.6024 - acc: 0.8385 - val_loss: 3.6266 - val_acc: 0.7750\n",
            "Epoch 44/50\n",
            "12/12 [==============================] - 155s 13s/step - loss: 3.2740 - acc: 0.7969 - val_loss: 4.0295 - val_acc: 0.7500\n",
            "Epoch 45/50\n",
            "12/12 [==============================] - 149s 12s/step - loss: 2.4959 - acc: 0.8452 - val_loss: 2.8207 - val_acc: 0.8250\n",
            "Epoch 46/50\n",
            "12/12 [==============================] - 154s 13s/step - loss: 2.6024 - acc: 0.8385 - val_loss: 3.6054 - val_acc: 0.7763\n",
            "Epoch 47/50\n",
            "12/12 [==============================] - 152s 13s/step - loss: 2.9382 - acc: 0.8177 - val_loss: 4.6340 - val_acc: 0.7125\n",
            "Epoch 48/50\n",
            "12/12 [==============================] - 150s 12s/step - loss: 2.5335 - acc: 0.8428 - val_loss: 2.8207 - val_acc: 0.8250\n",
            "Epoch 49/50\n",
            "12/12 [==============================] - 151s 13s/step - loss: 3.1603 - acc: 0.8039 - val_loss: 4.6340 - val_acc: 0.7125\n",
            "Epoch 50/50\n",
            "12/12 [==============================] - 153s 13s/step - loss: 2.7703 - acc: 0.8281 - val_loss: 4.6658 - val_acc: 0.7105\n"
          ],
          "name": "stdout"
        },
        {
          "output_type": "execute_result",
          "data": {
            "text/plain": [
              "<keras.callbacks.History at 0x7fc4d0a5b160>"
            ]
          },
          "metadata": {
            "tags": []
          },
          "execution_count": 15
        }
      ]
    },
    {
      "cell_type": "code",
      "metadata": {
        "id": "8lMbVn4AV_tM",
        "colab_type": "code",
        "outputId": "825dde1b-5e34-4497-f816-efd2d243215d",
        "colab": {
          "base_uri": "https://localhost:8080/",
          "height": 122
        }
      },
      "source": [
        "from google.colab import drive\n",
        "drive.mount('/content/gdrive')"
      ],
      "execution_count": 0,
      "outputs": [
        {
          "output_type": "stream",
          "text": [
            "Go to this URL in a browser: https://accounts.google.com/o/oauth2/auth?client_id=947318989803-6bn6qk8qdgf4n4g3pfee6491hc0brc4i.apps.googleusercontent.com&redirect_uri=urn%3Aietf%3Awg%3Aoauth%3A2.0%3Aoob&scope=email%20https%3A%2F%2Fwww.googleapis.com%2Fauth%2Fdocs.test%20https%3A%2F%2Fwww.googleapis.com%2Fauth%2Fdrive%20https%3A%2F%2Fwww.googleapis.com%2Fauth%2Fdrive.photos.readonly%20https%3A%2F%2Fwww.googleapis.com%2Fauth%2Fpeopleapi.readonly&response_type=code\n",
            "\n",
            "Enter your authorization code:\n",
            "··········\n",
            "Mounted at /content/gdrive\n"
          ],
          "name": "stdout"
        }
      ]
    },
    {
      "cell_type": "code",
      "metadata": {
        "id": "RHVGadNWlwGH",
        "colab_type": "code",
        "colab": {}
      },
      "source": [
        "model.save(\"/content/gdrive/My Drive/nethra.h5\")"
      ],
      "execution_count": 0,
      "outputs": []
    },
    {
      "cell_type": "code",
      "metadata": {
        "id": "Ynb5MT2myVwG",
        "colab_type": "code",
        "colab": {}
      },
      "source": [
        "model.summary()"
      ],
      "execution_count": 0,
      "outputs": []
    },
    {
      "cell_type": "markdown",
      "metadata": {
        "id": "2zMZOoWXPjrf",
        "colab_type": "text"
      },
      "source": [
        "Model: \"sequential_3\"\n",
        "_________________________________________________________________\n",
        "Layer (type)                 Output Shape              Param #   \n",
        "=================================================================\n",
        "conv2d_7 (Conv2D)            (None, 356, 356, 32)      896       \n",
        "_________________________________________________________________\n",
        "activation_11 (Activation)   (None, 356, 356, 32)      0         \n",
        "_________________________________________________________________\n",
        "max_pooling2d_7 (MaxPooling2 (None, 356, 356, 32)      0         \n",
        "_________________________________________________________________\n",
        "conv2d_8 (Conv2D)            (None, 356, 356, 32)      9248      \n",
        "_________________________________________________________________\n",
        "activation_12 (Activation)   (None, 356, 356, 32)      0         \n",
        "_________________________________________________________________\n",
        "max_pooling2d_8 (MaxPooling2 (None, 356, 356, 32)      0         \n",
        "_________________________________________________________________\n",
        "conv2d_9 (Conv2D)            (None, 356, 356, 64)      18496     \n",
        "_________________________________________________________________\n",
        "activation_13 (Activation)   (None, 356, 356, 64)      0         \n",
        "_________________________________________________________________\n",
        "max_pooling2d_9 (MaxPooling2 (None, 356, 356, 64)      0         \n",
        "_________________________________________________________________\n",
        "flatten_3 (Flatten)          (None, 8111104)           0         \n",
        "_________________________________________________________________\n",
        "dense_5 (Dense)              (None, 64)                519110720 \n",
        "_________________________________________________________________\n",
        "activation_14 (Activation)   (None, 64)                0         \n",
        "_________________________________________________________________\n",
        "dropout_3 (Dropout)          (None, 64)                0         \n",
        "_________________________________________________________________\n",
        "dense_6 (Dense)              (None, 1)                 65        \n",
        "_________________________________________________________________\n",
        "activation_15 (Activation)   (None, 1)                 0         \n",
        "=================================================================\n",
        "Total params: 519,139,425\n",
        "Trainable params: 519,139,425\n",
        "Non-trainable params: 0"
      ]
    },
    {
      "cell_type": "code",
      "metadata": {
        "id": "-r_HvTn8z3_m",
        "colab_type": "code",
        "colab": {}
      },
      "source": [
        "import cv2"
      ],
      "execution_count": 0,
      "outputs": []
    },
    {
      "cell_type": "code",
      "metadata": {
        "id": "mvZ78hr53uQS",
        "colab_type": "code",
        "colab": {}
      },
      "source": [
        "from keras.models import load_model\n",
        "import numpy as np"
      ],
      "execution_count": 0,
      "outputs": []
    },
    {
      "cell_type": "code",
      "metadata": {
        "id": "e2C-kfowCCMF",
        "colab_type": "code",
        "outputId": "301166b0-90e5-4b3f-b412-0ca569a70feb",
        "colab": {
          "base_uri": "https://localhost:8080/",
          "height": 34
        }
      },
      "source": [
        "model = load_model('gdrive/My Drive/nethra.h5')\n",
        "\n",
        "model.compile(loss='binary_crossentropy',\n",
        "              optimizer='rmsprop',\n",
        "              metrics=['accuracy'])\n",
        "\n",
        "img = cv2.imread('road.jpg')\n",
        "img = cv2.resize(img,(356,356))\n",
        "img = np.reshape(img,[1,356,356,3])\n",
        "\n",
        "classes = model.predict_classes(img)\n",
        "\n",
        "if classes[0][0] == 0: print('pothole!')\n",
        "else: print('road')"
      ],
      "execution_count": 0,
      "outputs": [
        {
          "output_type": "stream",
          "text": [
            "pothole!\n"
          ],
          "name": "stdout"
        }
      ]
    }
  ]
}